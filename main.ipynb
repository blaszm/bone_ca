{
 "cells": [
  {
   "cell_type": "code",
   "execution_count": 14,
   "metadata": {},
   "outputs": [
    {
     "name": "stdout",
     "output_type": "stream",
     "text": [
      "Info    : Reading 'mesh/rve30pc.msh'...\n",
      "Info    : 343 entities\n",
      "Info    : 343 nodes\n",
      "Info    : 216 elements\n",
      "Info    : Done reading 'mesh/rve30pc.msh'\n",
      "bicgstb: rho equal to zero at iteration 26. Returned residual has norm 7.16e+00.\n"
     ]
    },
    {
     "name": "stderr",
     "output_type": "stream",
     "text": [
      "WARNING: replacing module geometry_check.\n"
     ]
    },
    {
     "name": "stdout",
     "output_type": "stream",
     "text": [
      "bicgstb: rho equal to zero at iteration 28. Returned residual has norm 5.97e+00.\n",
      "bicgstb: rho equal to zero at iteration 13. Returned residual has norm 2.78e+07.\n"
     ]
    },
    {
     "name": "stdout",
     "output_type": "stream",
     "text": [
      "bicgstb: rho equal to zero at iteration 1. Returned residual has norm 1.00e+00.\n",
      "bicgstb: rho equal to zero at iteration 1. Returned residual has norm 1.00e+00.\n"
     ]
    },
    {
     "name": "stdout",
     "output_type": "stream",
     "text": [
      "bicgstb: rho equal to zero at iteration 1. Returned residual has norm 1.00e+00.\n",
      "\n",
      "Youngs modulus RVE from numerical perturbation - 30pc bone: 3.8910e+09\n",
      "\n",
      " Starting Newton iterations:\n",
      "\n",
      " Time step @time = 1:\n"
     ]
    },
    {
     "name": "stdout",
     "output_type": "stream",
     "text": [
      "Iteration: 0 \trel. residual: 1.0000e+00\n",
      "Iteration: 1 \trel. residual: 7.4206e-07\n",
      "Iteration: 2 \trel. residual: 7.3486e-13\n"
     ]
    },
    {
     "name": "stdout",
     "output_type": "stream",
     "text": [
      "\n",
      "Volume average stress σ:\n",
      "4.9653e-12 1.2435e-11 1.8808e-11 -5.6464e-12 3.0175e+05 4.5864e-12 \n",
      "\n",
      "Volume average electric displacement D:\n",
      "5.8663e-08 -2.2615e-24 1.6715e-42 \n",
      "\n",
      "Volume average electric displacement time derivative Dp:\n",
      "-1.8921e-03 -4.1686e-20 1.8728e-38 \n",
      "\n",
      "Volume average magnetic field strength H:\n",
      "2.5294e-27 5.1692e-25 8.2985e-25 \n",
      "\n",
      "Volume average electric current density J:\n",
      "1.6432e-10 -1.4135e-28 1.5592e-27 \n"
     ]
    },
    {
     "name": "stdout",
     "output_type": "stream",
     "text": [
      "\n",
      "Info    : Reading 'mesh/rve5pc.msh'...\n",
      "Info    : 343 entities\n",
      "Info    : 343 nodes\n",
      "Info    : 216 elements\n",
      "Info    : Done reading 'mesh/rve5pc.msh'\n",
      "bicgstb: rho equal to zero at iteration 45. Returned residual has norm 3.86e+00.\n",
      "bicgstb: rho equal to zero at iteration 42. Returned residual has norm 3.53e+00."
     ]
    },
    {
     "name": "stdout",
     "output_type": "stream",
     "text": [
      "\n",
      "bicgstb: rho equal to zero at iteration 10. Returned residual has norm 1.67e+06.\n"
     ]
    },
    {
     "name": "stdout",
     "output_type": "stream",
     "text": [
      "bicgstb: rho equal to zero at iteration 1. Returned residual has norm 1.00e+00.\n",
      "bicgstb: rho equal to zero at iteration 1. Returned residual has norm 1.00e+00."
     ]
    },
    {
     "name": "stdout",
     "output_type": "stream",
     "text": [
      "\n",
      "bicgstb: rho equal to zero at iteration 1. Returned residual has norm 1.00e+00.\n",
      "\n",
      "Youngs modulus RVE from numerical perturbation - 5pc bone: 2.2334e+09\n",
      "\n",
      " Starting Newton iterations:\n",
      "\n",
      " Time step @time = 1:\n"
     ]
    },
    {
     "name": "stdout",
     "output_type": "stream",
     "text": [
      "Iteration: 0 \trel. residual: 1.0000e+00\n",
      "Iteration: 1 \trel. residual: 8.0911e-07\n",
      "Iteration: 2 \trel. residual: 6.5974e-13\n",
      "\n",
      "Volume average stress σ:\n",
      "2.0830e-12 9.0576e-13 4.2327e-12 -3.6013e-11 1.7214e+05 8.0158e-12 \n",
      "\n",
      "Volume average electric displacement D:\n",
      "7.2584e-09 -3.2440e-24 -1.3290e-44 \n",
      "\n",
      "Volume average electric displacement time derivative Dp:\n",
      "-3.9442e-04 -5.3963e-20 3.0851e-40 \n",
      "\n",
      "Volume average magnetic field strength H:\n",
      "5.7834e-29 -3.3253e-26 -3.4647e-26 \n",
      "\n",
      "Volume average electric current density J:"
     ]
    },
    {
     "name": "stdout",
     "output_type": "stream",
     "text": [
      "\n",
      "5.0980e-12 -1.6627e-31 6.9687e-30 \n",
      "\n"
     ]
    }
   ],
   "source": [
    "include(\"bone_microscale_main.jl\")"
   ]
  }
 ],
 "metadata": {
  "kernelspec": {
   "display_name": "Julia 1.9.3",
   "language": "julia",
   "name": "julia-1.9"
  },
  "language_info": {
   "file_extension": ".jl",
   "mimetype": "application/julia",
   "name": "julia",
   "version": "1.9.3"
  }
 },
 "nbformat": 4,
 "nbformat_minor": 4
}
